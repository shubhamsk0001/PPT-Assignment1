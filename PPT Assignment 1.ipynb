{
 "cells": [
  {
   "cell_type": "code",
   "execution_count": null,
   "id": "d76988a5",
   "metadata": {},
   "outputs": [],
   "source": [
    " **Q1.** Given an array of integers nums and an integer target, return indices of the two numbers such that they add up to \n",
    "target.\n",
    "\n",
    "You may assume that each input would have exactly one solution, and you may not use the same element twice.\n",
    "\n",
    "You can return the answer in any order.\n",
    "\n",
    "**Example:**\n",
    "Input: nums = [2,7,11,15], target = 9\n",
    "Output0 [0,1]\n",
    "\n",
    "**Explanation:** Because nums[0] + nums[1] == 9, we return [0, 1]"
   ]
  },
  {
   "cell_type": "code",
   "execution_count": 23,
   "id": "2c43687c",
   "metadata": {},
   "outputs": [
    {
     "name": "stdout",
     "output_type": "stream",
     "text": [
      "(0, 1)\n"
     ]
    }
   ],
   "source": [
    "def two_sum(nums,target):\n",
    "    if not nums:\n",
    "        return None\n",
    "    else:\n",
    "        for i in range (len(nums)):\n",
    "            for j in range(i+1,len(nums)):\n",
    "                if nums[i]+nums[j]==target:\n",
    "                    return i,j\n",
    "print(two_sum([2,7,11,15],9))\n",
    "    "
   ]
  },
  {
   "cell_type": "code",
   "execution_count": null,
   "id": "ff3c7627",
   "metadata": {},
   "outputs": [],
   "source": [
    "**Q2.** Given an integer array nums and an integer val, remove all occurrences of val in nums in-place. The order of the \n",
    "elements may be changed. Then return the number of elements in nums which are not equal to val.\n",
    "\n",
    "Consider the number of elements in nums which are not equal to val be k, to get accepted, you need to do the following \n",
    "things:\n",
    "\n",
    "- Change the array nums such that the first k elements of nums contain the elements which are not equal to val. The \n",
    "remaining elements of nums are not important as well as the size of nums.\n",
    "- Return k.\n",
    "\n",
    "**Example :**\n",
    "Input: nums = [3,2,2,3], val = 3\n",
    "Output: 2, nums = [2,2,_*,_*]\n",
    "\n",
    "**Explanation:** Your function should return k = 2, with the first two elements of nums being 2. It does not matter \n",
    "what you leave beyond the returned k (hence they are underscores)\n",
    "\n"
   ]
  },
  {
   "cell_type": "code",
   "execution_count": 29,
   "id": "546bb25b",
   "metadata": {},
   "outputs": [
    {
     "name": "stdout",
     "output_type": "stream",
     "text": [
      "2\n"
     ]
    }
   ],
   "source": [
    "def removeElement(nums, val):\n",
    "        # Counter for keeping track of elements other than val\n",
    "        count = 0\n",
    "        # Loop through all the elements of the array\n",
    "        for i in range(len(nums)):\n",
    "            if nums[i] != val:\n",
    "                # If the element is not val\n",
    "                nums[count] = nums[i]\n",
    "                count += 1\n",
    "        return count\n",
    "print(removeElement( [3,2,2,3],3))"
   ]
  },
  {
   "cell_type": "code",
   "execution_count": null,
   "id": "1c29dabc",
   "metadata": {},
   "outputs": [],
   "source": [
    "**Q3.** Given a sorted array of distinct integers and a target value, return the index if the target is found. If not, \n",
    "return the index where it would be if it were inserted in order.\n",
    "\n",
    "You must write an algorithm with O(log n) runtime complexity.\n",
    "\n",
    "**Example 1:**\n",
    "Input: nums = [1,3,5,6], target = 5\n",
    "\n",
    "Output: 2"
   ]
  },
  {
   "cell_type": "code",
   "execution_count": 35,
   "id": "f1e101a3",
   "metadata": {},
   "outputs": [
    {
     "name": "stdout",
     "output_type": "stream",
     "text": [
      "2\n"
     ]
    }
   ],
   "source": [
    "def searchInsert( nums, target):\n",
    "    # Last and First indexes\n",
    "    start = 0\n",
    "    end = len(nums) - 1\n",
    "        \n",
    "    # Traverse an array\n",
    "    while (start <= end):\n",
    "            \n",
    "        mid = (start + end)//2\n",
    "             \n",
    "        # if target value found.\n",
    "        if nums[mid] == target:\n",
    "            return mid\n",
    "            \n",
    "        # If target value is greater then mid elements's value\n",
    "        elif target > nums[mid]:\n",
    "            start = mid + 1\n",
    "                \n",
    "        # otherwise target value is less, \n",
    "        else:\n",
    "            end = mid -1\n",
    "    # Return the insertion position\n",
    "    return end + 1\n",
    "print(searchInsert([1,3,5,6],5))"
   ]
  },
  {
   "cell_type": "code",
   "execution_count": null,
   "id": "16e7eb68",
   "metadata": {},
   "outputs": [],
   "source": [
    "**Q4.** You are given a large integer represented as an integer array digits, where each digits[i] is the ith digit of\n",
    "the integer. The digits are ordered from most significant to least significant in left-to-right order. The large integer \n",
    "does not contain any leading 0's.\n",
    "\n",
    "Increment the large integer by one and return the resulting array of digits.\n",
    "\n",
    "**Example 1:**\n",
    "Input: digits = [1,2,3]\n",
    "Output: [1,2,4]\n",
    "\n",
    "**Explanation:** The array represents the integer 123.\n",
    "\n",
    "Incrementing by one gives 123 + 1 = 124.\n",
    "Thus, the result should be [1,2,4]."
   ]
  },
  {
   "cell_type": "code",
   "execution_count": 36,
   "id": "da16c0e9",
   "metadata": {},
   "outputs": [
    {
     "name": "stdout",
     "output_type": "stream",
     "text": [
      "[1, 2, 4]\n"
     ]
    }
   ],
   "source": [
    "    def plusOne(digits):\n",
    "        digit_length = len(digits)\n",
    "        \n",
    "        i = digit_length - 1\n",
    "        \n",
    "        while digits[i] == 9 and i >= 0:\n",
    "            i -= 1\n",
    "        \n",
    "        if i == -1:\n",
    "            results = [0]*(digit_length + 1)\n",
    "            results[0] = 1\n",
    "            return results\n",
    "        \n",
    "        results = [0]*(digit_length)\n",
    "        \n",
    "        results[i] = digits[i] + 1\n",
    "        \n",
    "        for j in range(i-1, -1, -1):\n",
    "            results[j] = digits[j]\n",
    "        \n",
    "        return results\n",
    "    print(plusOne([1,2,3]))"
   ]
  },
  {
   "cell_type": "code",
   "execution_count": null,
   "id": "469c7802",
   "metadata": {},
   "outputs": [],
   "source": [
    "**Q5.** You are given two integer arrays nums1 and nums2, sorted in non-decreasing order, and two integers m and n, \n",
    "representing the number of elements in nums1 and nums2 respectively.\n",
    "\n",
    "Merge nums1 and nums2 into a single array sorted in non-decreasing order.\n",
    "\n",
    "The final sorted array should not be returned by the function, but instead be stored inside the array nums1. To \n",
    "accommodate this, nums1 has a length of m + n, where the first m elements denote the elements that should be merged, \n",
    "and the last n elements are set to 0 and should be ignored. nums2 has a length of n.\n",
    "\n",
    "**Example 1:**\n",
    "Input: nums1 = [1,2,3,0,0,0], m = 3, nums2 = [2,5,6], n = 3\n",
    "Output: [1,2,2,3,5,6]\n",
    "\n",
    "**Explanation:** The arrays we are merging are [1,2,3] and [2,5,6].\n",
    "The result of the merge is [1,2,2,3,5,6] with the underlined elements coming from nums1.\n",
    "\n",
    "</aside>"
   ]
  },
  {
   "cell_type": "code",
   "execution_count": 52,
   "id": "8f81e086",
   "metadata": {},
   "outputs": [
    {
     "name": "stdout",
     "output_type": "stream",
     "text": [
      "[1, 2, 2, 3, 5, 6]\n"
     ]
    }
   ],
   "source": [
    "def merge(nums1, m, nums2,n):\n",
    "    k = m + n - 1\n",
    "    i, j = m - 1, n - 1\n",
    "    while j >= 0:\n",
    "        if i >= 0 and nums1[i] > nums2[j]:\n",
    "            nums1[k] = nums1[i]\n",
    "            i -= 1\n",
    "        else:\n",
    "            nums1[k] = nums2[j]\n",
    "            j -= 1\n",
    "        k -= 1\n",
    "    return nums1\n",
    "print(merge([1,2,3,0,0,0],3,[2,5,6],3))"
   ]
  },
  {
   "cell_type": "code",
   "execution_count": null,
   "id": "d1b89abd",
   "metadata": {},
   "outputs": [],
   "source": [
    "**Q6.** Given an integer array nums, return true if any value appears at least twice in the array, and return false if \n",
    "every element is distinct.\n",
    "\n",
    "**Example 1:**\n",
    "Input: nums = [1,2,3,1]\n",
    "\n",
    "Output: true"
   ]
  },
  {
   "cell_type": "code",
   "execution_count": 53,
   "id": "121a62fa",
   "metadata": {},
   "outputs": [
    {
     "name": "stdout",
     "output_type": "stream",
     "text": [
      "True\n"
     ]
    }
   ],
   "source": [
    "def containsDuplicate( nums):\n",
    "    for i in range(len(nums)):\n",
    "        for j in range(0, i):\n",
    "            if nums[i] == nums[j]:\n",
    "                return True\n",
    "    return False\n",
    "print(containsDuplicate([1,2,3,1]))"
   ]
  },
  {
   "cell_type": "code",
   "execution_count": null,
   "id": "f9d028f3",
   "metadata": {},
   "outputs": [],
   "source": [
    "**Q7.** Given an integer array nums, move all 0's to the end of it while maintaining the relative order of the nonzero \n",
    "elements.\n",
    "\n",
    "Note that you must do this in-place without making a copy of the array.\n",
    "\n",
    "**Example 1:**\n",
    "Input: nums = [0,1,0,3,12]\n",
    "Output: [1,3,12,0,0]"
   ]
  },
  {
   "cell_type": "code",
   "execution_count": 54,
   "id": "a9c5180e",
   "metadata": {},
   "outputs": [
    {
     "name": "stdout",
     "output_type": "stream",
     "text": [
      "[1, 3, 12, 0, 0]\n"
     ]
    }
   ],
   "source": [
    "# Python Program to move all zeros to the end\n",
    "A = [0,1,0,3,12]\n",
    "n = len(A)\n",
    "j = 0\n",
    "for i in range(n):\n",
    "    if A[i] != 0:\n",
    "        A[j], A[i] = A[i], A[j]  # Partitioning the array\n",
    "        j += 1\n",
    "print(A)  # Print the array"
   ]
  },
  {
   "cell_type": "code",
   "execution_count": null,
   "id": "64894af4",
   "metadata": {},
   "outputs": [],
   "source": [
    " **Q8.** You have a set of integers s, which originally contains all the numbers from 1 to n. Unfortunately, due to some \n",
    "error, one of the numbers in s got duplicated to another number in the set, which results in repetition of one number \n",
    "and loss of another number.\n",
    "\n",
    "You are given an integer array nums representing the data status of this set after the error.\n",
    "\n",
    "Find the number that occurs twice and the number that is missing and return them in the form of an array.\n",
    "\n",
    "**Example 1:**\n",
    "Input: nums = [1,2,2,4]\n",
    "Output: [2,3]"
   ]
  },
  {
   "cell_type": "code",
   "execution_count": 55,
   "id": "f3fbc65c",
   "metadata": {},
   "outputs": [
    {
     "name": "stdout",
     "output_type": "stream",
     "text": [
      "[2, 3]\n"
     ]
    }
   ],
   "source": [
    "def findErrorNums(nums):\n",
    "    ans = [0,0]\n",
    "    for num in nums:\n",
    "        nums[(num - 1) % 10000] += 10000\n",
    "    for i in range(len(nums)):\n",
    "        if nums[i] > 20000: ans[0] = i + 1\n",
    "        elif nums[i] < 10001: ans[1] = i + 1\n",
    "    return ans\n",
    "print(findErrorNums([1,2,2,4]))"
   ]
  }
 ],
 "metadata": {
  "kernelspec": {
   "display_name": "Python 3 (ipykernel)",
   "language": "python",
   "name": "python3"
  },
  "language_info": {
   "codemirror_mode": {
    "name": "ipython",
    "version": 3
   },
   "file_extension": ".py",
   "mimetype": "text/x-python",
   "name": "python",
   "nbconvert_exporter": "python",
   "pygments_lexer": "ipython3",
   "version": "3.9.12"
  }
 },
 "nbformat": 4,
 "nbformat_minor": 5
}
